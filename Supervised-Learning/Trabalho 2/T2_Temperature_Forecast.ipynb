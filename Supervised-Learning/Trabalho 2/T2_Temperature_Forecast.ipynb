{
  "nbformat": 4,
  "nbformat_minor": 0,
  "metadata": {
    "colab": {
      "name": "T2 - Temperature Forecast.ipynb",
      "provenance": [],
      "collapsed_sections": []
    },
    "kernelspec": {
      "display_name": "Python 3",
      "name": "python3"
    },
    "language_info": {
      "name": "python"
    }
  },
  "cells": [
    {
      "cell_type": "markdown",
      "metadata": {
        "id": "QWhMls0bzB3P"
      },
      "source": [
        "Trabalho 2\n",
        "\n",
        "Thiago Bruschi Martins RA: 120212\n",
        "\n",
        "Objetivo do trabalho: aplicar os vários regressores visto em aula. Busca de hiperparametros."
      ]
    },
    {
      "cell_type": "code",
      "metadata": {
        "id": "PLkdjGtOskAH"
      },
      "source": [
        "import io\n",
        "import random\n",
        "import requests\n",
        "import numpy as np\n",
        "import pandas as pd\n",
        "import xgboost as xgb\n",
        "from sklearn.svm import SVR\n",
        "from sklearn.svm import LinearSVR\n",
        "from sklearn.linear_model import Lasso\n",
        "from sklearn.linear_model import Ridge\n",
        "from scipy.stats import loguniform, uniform\n",
        "from sklearn.tree import DecisionTreeRegressor\n",
        "from sklearn.neural_network import MLPRegressor\n",
        "from sklearn.preprocessing import StandardScaler\n",
        "from sklearn.linear_model import LinearRegression\n",
        "from sklearn.neighbors import KNeighborsRegressor\n",
        "from sklearn.ensemble import RandomForestRegressor\n",
        "from sklearn.model_selection import cross_val_score\n",
        "from sklearn.ensemble import GradientBoostingRegressor\n",
        "from sklearn.model_selection import RandomizedSearchCV\n"
      ],
      "execution_count": null,
      "outputs": []
    },
    {
      "cell_type": "code",
      "metadata": {
        "id": "0QnivrOGrNm0"
      },
      "source": [
        "import warnings\n",
        "warnings.filterwarnings(\"ignore\")\n",
        "\n",
        "url = \"https://archive.ics.uci.edu/ml/machine-learning-databases/00514/Bias_correction_ucl.csv\"\n",
        "s = requests.get(url).content\n",
        "df = pd.read_csv(io.StringIO(s.decode('utf-8')))\n"
      ],
      "execution_count": null,
      "outputs": []
    },
    {
      "cell_type": "markdown",
      "metadata": {
        "id": "dCK--tMdi5c3"
      },
      "source": [
        "# Pré-processamento"
      ]
    },
    {
      "cell_type": "code",
      "metadata": {
        "colab": {
          "base_uri": "https://localhost:8080/"
        },
        "id": "X4MM9pQ9t5P0",
        "outputId": "a3d546a0-ba36-4bda-8071-6153ad839438"
      },
      "source": [
        "random.seed(41)\n",
        "\n",
        "pre_df = df.dropna()\n",
        "X = pre_df.drop(['Next_Tmin','Date','Next_Tmax'], axis=1)\n",
        "y = pre_df['Next_Tmax']\n",
        "\n",
        "scaler = StandardScaler()\n",
        "X = scaler.fit_transform(X)\n",
        "\n",
        "print('X:', X.shape)\n",
        "print('y:', y.shape)"
      ],
      "execution_count": null,
      "outputs": [
        {
          "output_type": "stream",
          "text": [
            "X: (7588, 22)\n",
            "y: (7588,)\n"
          ],
          "name": "stdout"
        }
      ]
    },
    {
      "cell_type": "markdown",
      "metadata": {
        "id": "jw8Gaf-_jvAf"
      },
      "source": [
        "# Funções"
      ]
    },
    {
      "cell_type": "code",
      "metadata": {
        "id": "L0DAbcxNjwIV"
      },
      "source": [
        "# Testa 10 valores de parâmetros aleatórios no estimator recebido\n",
        "def random_search(estimator, param_distributions):\n",
        "  rscv = RandomizedSearchCV(estimator, param_distributions=param_distributions, scoring='neg_root_mean_squared_error', n_iter=10, n_jobs=-1)\n",
        "  r = rscv.fit(X,y)\n",
        "  return -r.best_score_, r.best_params_ \n",
        "\n",
        "# Realiza o cross_validation com os valores padrões do estimator recebido\n",
        "def cross_validation(estimator):\n",
        "  r = cross_val_score(estimator, X, y, cv=5, scoring='neg_root_mean_squared_error')\n",
        "  return np.min(-r)\n",
        "\n",
        "def list_dict(d):\n",
        "    for x in d:\n",
        "        print (f'\\t{x}: {round(d[x],5)}')     \n",
        "\n",
        "def print_dict(d):\n",
        "    for x in d:\n",
        "        print (x)\n",
        "        for y in d[x]:\n",
        "            print ('\\t',y,':', round(d[x][y], 4))\n",
        "\n",
        "# Testa um modelo com os parâmetros recebidos e com os valores default\n",
        "def model_test(estimator, params, name):\n",
        "  best_score, best_params = random_search(estimator, params)\n",
        "  default_score =  cross_validation(estimator)\n",
        "\n",
        "  results[name] = {}\n",
        "  results[name]['best_score'] = best_score\n",
        "  results[name]['default_score'] = default_score\n",
        "  return best_params\n",
        "\n",
        "def model_report(name, best_params):\n",
        "  print(name)\n",
        "  list_dict(best_params)\n",
        "  list_dict(results[name])\n",
        "\n",
        "results = {}"
      ],
      "execution_count": null,
      "outputs": []
    },
    {
      "cell_type": "markdown",
      "metadata": {
        "id": "4jPOWNY-i0Ei"
      },
      "source": [
        "# Modelos de Regressão"
      ]
    },
    {
      "cell_type": "markdown",
      "metadata": {
        "id": "Ot--K4CNCina"
      },
      "source": [
        "## Modelos Lineares"
      ]
    },
    {
      "cell_type": "code",
      "metadata": {
        "colab": {
          "base_uri": "https://localhost:8080/"
        },
        "id": "4jkpr73asUEk",
        "outputId": "08daf7f3-ec5e-47b0-b136-343ee097cb5e"
      },
      "source": [
        "results['LR'] = {}\n",
        "validation = cross_val_score(LinearRegression(), X, y, scoring='neg_root_mean_squared_error')\n",
        "results['LR']['default_score'] = np.round(np.min(-validation),3) # melhor resultado\n",
        "results['LR']['best_score'] = results['LR']['default_score']\n",
        "\n",
        "print('Linear Regression:', results['LR']['default_score'])"
      ],
      "execution_count": null,
      "outputs": [
        {
          "output_type": "stream",
          "text": [
            "Linear Regression: 1.454\n"
          ],
          "name": "stdout"
        }
      ]
    },
    {
      "cell_type": "markdown",
      "metadata": {
        "id": "7XC5YWEul1ey"
      },
      "source": [
        "### L1"
      ]
    },
    {
      "cell_type": "code",
      "metadata": {
        "colab": {
          "base_uri": "https://localhost:8080/"
        },
        "id": "x1exLPh_kh3K",
        "outputId": "a3700611-9dbe-45a0-f8cf-ee9f6da8c424"
      },
      "source": [
        "lasso_param = {\n",
        "    'alpha':loguniform(10e-3, 10e3)\n",
        "}\n",
        "\n",
        "best_params = model_test(Lasso(), lasso_param, 'L1')\n",
        "model_report('L1', best_params)"
      ],
      "execution_count": null,
      "outputs": [
        {
          "output_type": "stream",
          "text": [
            "L1\n",
            "\talpha: 0.09272\n",
            "\tbest_score: 1.58284\n",
            "\tdefault_score: 1.73604\n"
          ],
          "name": "stdout"
        }
      ]
    },
    {
      "cell_type": "markdown",
      "metadata": {
        "id": "rrlOYeWCqRpc"
      },
      "source": [
        "### L2"
      ]
    },
    {
      "cell_type": "code",
      "metadata": {
        "colab": {
          "base_uri": "https://localhost:8080/"
        },
        "id": "QwD76u5Mm3tV",
        "outputId": "28d9c90f-3296-44cf-b169-ee433b276ae2"
      },
      "source": [
        "\n",
        "ridge_param = {\n",
        "    'alpha':loguniform(10e-3, 10e3)\n",
        "}\n",
        "\n",
        "best_params = model_test(Ridge(), ridge_param, 'L2')\n",
        "model_report('L2', best_params)"
      ],
      "execution_count": null,
      "outputs": [
        {
          "output_type": "stream",
          "text": [
            "L2\n",
            "\talpha: 7.32624\n",
            "\tbest_score: 1.57706\n",
            "\tdefault_score: 1.45418\n"
          ],
          "name": "stdout"
        }
      ]
    },
    {
      "cell_type": "markdown",
      "metadata": {
        "id": "BjfBC4qMq2vs"
      },
      "source": [
        "### SVM Linear"
      ]
    },
    {
      "cell_type": "code",
      "metadata": {
        "id": "GmkGMqgWq4WN",
        "colab": {
          "base_uri": "https://localhost:8080/"
        },
        "outputId": "c9753b72-ee86-4358-e7c2-48e935320751"
      },
      "source": [
        "svm_param = {\n",
        "    'epsilon':[0.1, 0.3],\n",
        "    'C': loguniform(2e-15,2e15)\n",
        "    }\n",
        "\n",
        "best_params = model_test(LinearSVR(), svm_param, 'SVM_Linear')\n",
        "model_report('SVM_Linear', best_params)"
      ],
      "execution_count": null,
      "outputs": [
        {
          "output_type": "stream",
          "text": [
            "SVM_Linear\n",
            "\tC: 351491174671.98975\n",
            "\tepsilon: 0.3\n",
            "\tbest_score: 1.99365\n",
            "\tdefault_score: 1.42496\n"
          ],
          "name": "stdout"
        }
      ]
    },
    {
      "cell_type": "markdown",
      "metadata": {
        "id": "BC-c-L3fRDe8"
      },
      "source": [
        "## SVM com kernel RBF"
      ]
    },
    {
      "cell_type": "code",
      "metadata": {
        "id": "IwpuY1epREB8",
        "colab": {
          "base_uri": "https://localhost:8080/"
        },
        "outputId": "0fb50444-1e22-4769-bed5-83a9a8e6d1c6"
      },
      "source": [
        "svm_param = {\n",
        "    'epsilon':[0.1, 0.3],\n",
        "    'C':loguniform(2e-15,2e15),\n",
        "    'gamma':loguniform(2e-9,2e3)\n",
        "    }\n",
        " \n",
        "best_params = model_test(SVR('rbf', max_iter=1000), svm_param, 'SVM_RBF')\n",
        "model_report('SVM_RBF', best_params)"
      ],
      "execution_count": null,
      "outputs": [
        {
          "output_type": "stream",
          "text": [
            "SVM_RBF\n",
            "\tC: 25.78587\n",
            "\tepsilon: 0.3\n",
            "\tgamma: 7e-05\n",
            "\tbest_score: 1.8865\n",
            "\tdefault_score: 1.44551\n"
          ],
          "name": "stdout"
        }
      ]
    },
    {
      "cell_type": "markdown",
      "metadata": {
        "id": "h4QxfSyto3RJ"
      },
      "source": [
        "## KNN"
      ]
    },
    {
      "cell_type": "code",
      "metadata": {
        "id": "R5PefIDSlasX",
        "colab": {
          "base_uri": "https://localhost:8080/"
        },
        "outputId": "aeb8faa5-601e-481a-eab6-6c19d6c05490"
      },
      "source": [
        "knn_params = {\n",
        "    'n_neighbors':np.random.randint(1, 1000, 10)\n",
        "    }\n",
        "\n",
        "best_params = model_test(KNeighborsRegressor(), knn_params, 'KNN')\n",
        "model_report('KNN', best_params)"
      ],
      "execution_count": null,
      "outputs": [
        {
          "output_type": "stream",
          "text": [
            "KNN\n",
            "\tn_neighbors: 213\n",
            "\tbest_score: 1.908\n",
            "\tdefault_score: 1.63376\n"
          ],
          "name": "stdout"
        }
      ]
    },
    {
      "cell_type": "markdown",
      "metadata": {
        "id": "-VeB7ZvOU-vn"
      },
      "source": [
        "## MLP"
      ]
    },
    {
      "cell_type": "code",
      "metadata": {
        "id": "Cc_1umGGU99S",
        "colab": {
          "base_uri": "https://localhost:8080/"
        },
        "outputId": "527e303b-7c9f-417e-f1d4-91a70497ad7b"
      },
      "source": [
        "MLP_params = {\n",
        "    'hidden_layer_sizes':(5,8,11,14,17,20,23)\n",
        "    }\n",
        "\n",
        "best_params = model_test(MLPRegressor(), MLP_params, 'MLP')\n",
        "model_report('MLP', best_params)"
      ],
      "execution_count": null,
      "outputs": [
        {
          "output_type": "stream",
          "text": [
            "MLP\n",
            "\thidden_layer_sizes: 20\n",
            "\tbest_score: 2.33829\n",
            "\tdefault_score: 1.89351\n"
          ],
          "name": "stdout"
        }
      ]
    },
    {
      "cell_type": "markdown",
      "metadata": {
        "id": "d7dzwkKPo4yj"
      },
      "source": [
        "## Decision Tree"
      ]
    },
    {
      "cell_type": "code",
      "metadata": {
        "id": "7OwMSAfjobfH",
        "colab": {
          "base_uri": "https://localhost:8080/"
        },
        "outputId": "7969d1d5-914d-45b7-cacb-8043262d2458"
      },
      "source": [
        "dtree_params = {\n",
        "    'ccp_alpha':[random.uniform(0.0, 0.4) for i in range(10)]\n",
        "    }\n",
        "\n",
        "best_params = model_test(DecisionTreeRegressor(), dtree_params, 'D-Tree')\n",
        "model_report('D-Tree', best_params)"
      ],
      "execution_count": null,
      "outputs": [
        {
          "output_type": "stream",
          "text": [
            "D-Tree\n",
            "\tccp_alpha: 0.06641\n",
            "\tbest_score: 1.83701\n",
            "\tdefault_score: 2.16191\n"
          ],
          "name": "stdout"
        }
      ]
    },
    {
      "cell_type": "markdown",
      "metadata": {
        "id": "9pPASOGbqvmb"
      },
      "source": [
        "## Random Forest"
      ]
    },
    {
      "cell_type": "code",
      "metadata": {
        "id": "UOsUiH1Wqyc3",
        "colab": {
          "base_uri": "https://localhost:8080/"
        },
        "outputId": "47d396b4-bfeb-4130-c8b8-04eeb284c4b0"
      },
      "source": [
        "rf_params = {\n",
        "    'n_estimators':[10, 100, 1000],\n",
        "    'max_features':[5, 10, 22]\n",
        "    }\n",
        "\n",
        "best_params = model_test(RandomForestRegressor(), rf_params, 'RF')\n",
        "model_report('RF', best_params)"
      ],
      "execution_count": null,
      "outputs": [
        {
          "output_type": "stream",
          "text": [
            "RF\n",
            "\tn_estimators: 1000\n",
            "\tmax_features: 10\n",
            "\tbest_score: 1.62588\n",
            "\tdefault_score: 1.42496\n"
          ],
          "name": "stdout"
        }
      ]
    },
    {
      "cell_type": "markdown",
      "metadata": {
        "id": "9ebyzd0qr14V"
      },
      "source": [
        "## GBM"
      ]
    },
    {
      "cell_type": "code",
      "metadata": {
        "id": "EhkrQc-hr4bN",
        "colab": {
          "base_uri": "https://localhost:8080/"
        },
        "outputId": "6f1ce46c-3042-4645-c559-07e0ffb59265"
      },
      "source": [
        "gbm_params = {\n",
        "    'n_estimators': np.random.randint(5, 100, 10),\n",
        "    'max_features':[random.uniform(0.01, 0.3) for i in range(10)],\n",
        "    'max_depth':[2, 3]\n",
        "    }\n",
        "\n",
        "best_params = model_test(GradientBoostingRegressor(), gbm_params, 'GBM')\n",
        "model_report('GBM', best_params)"
      ],
      "execution_count": null,
      "outputs": [
        {
          "output_type": "stream",
          "text": [
            "GBM\n",
            "\tn_estimators: 57\n",
            "\tmax_features: 0.19002\n",
            "\tmax_depth: 2\n",
            "\tbest_score: 1.70968\n",
            "\tdefault_score: 1.43851\n"
          ],
          "name": "stdout"
        }
      ]
    },
    {
      "cell_type": "markdown",
      "metadata": {
        "id": "Ca2vFsX4w3kY"
      },
      "source": [
        "# Final Report"
      ]
    },
    {
      "cell_type": "code",
      "metadata": {
        "id": "Jo1XAy1zqHN6",
        "colab": {
          "base_uri": "https://localhost:8080/"
        },
        "outputId": "461a63d2-a26a-4bef-9047-5724a1836992"
      },
      "source": [
        "# Ordena e exibe os modelos pelo melhor resultado alcançado de cada um\n",
        "final_report = pd.DataFrame.from_dict(results, orient='index')\n",
        "final_report.columns=['best_params','default_params']\n",
        "final_report['best_score'] = final_report.min(axis=1)\n",
        "print(final_report.sort_values(by='best_score'))"
      ],
      "execution_count": null,
      "outputs": [
        {
          "output_type": "stream",
          "text": [
            "            best_params  default_params  best_score\n",
            "SVM_Linear     1.993645        1.424957    1.424957\n",
            "RF             1.625883        1.424964    1.424964\n",
            "GBM            1.709675        1.438511    1.438511\n",
            "SVM_RBF        1.886496        1.445507    1.445507\n",
            "LR             1.454000        1.454000    1.454000\n",
            "L2             1.577059        1.454183    1.454183\n",
            "L1             1.582843        1.736037    1.582843\n",
            "KNN            1.908000        1.633757    1.633757\n",
            "D-Tree         1.837005        2.161914    1.837005\n",
            "MLP            2.338287        1.893508    1.893508\n"
          ],
          "name": "stdout"
        }
      ]
    }
  ]
}