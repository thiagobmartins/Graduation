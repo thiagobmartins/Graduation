{
  "nbformat": 4,
  "nbformat_minor": 0,
  "metadata": {
    "colab": {
      "name": "E2 - Model Temperature Forecast.ipynb",
      "provenance": [],
      "collapsed_sections": [],
      "include_colab_link": true
    },
    "kernelspec": {
      "display_name": "Python 3",
      "name": "python3"
    },
    "language_info": {
      "name": "python"
    }
  },
  "cells": [
    {
      "cell_type": "markdown",
      "metadata": {
        "id": "view-in-github",
        "colab_type": "text"
      },
      "source": [
        "<a href=\"https://colab.research.google.com/github/thiagobmartins/MO432/blob/main/Exerc2/E2_Model_Temperature_Forecast.ipynb\" target=\"_parent\"><img src=\"https://colab.research.google.com/assets/colab-badge.svg\" alt=\"Open In Colab\"/></a>"
      ]
    },
    {
      "cell_type": "markdown",
      "metadata": {
        "id": "i5JmwW9aus5h"
      },
      "source": [
        "# Grupo:\n",
        "* Isaque Elcio de Souza — RA: 225310\n",
        "* Matheus Vinicius Correa — RA: 22524\n",
        "* Thiago Bruschi Martins — RA: 120212\n"
      ]
    },
    {
      "cell_type": "code",
      "metadata": {
        "id": "PLkdjGtOskAH"
      },
      "source": [
        "import io\n",
        "import random\n",
        "import requests\n",
        "import numpy as np\n",
        "import pandas as pd\n",
        "import xgboost as xgb\n",
        "from sklearn.svm import SVR\n",
        "from sklearn.svm import LinearSVR\n",
        "from sklearn.linear_model import Lasso\n",
        "from sklearn.linear_model import Ridge\n",
        "from scipy.stats import loguniform, uniform\n",
        "from sklearn.tree import DecisionTreeRegressor\n",
        "from sklearn.neural_network import MLPRegressor\n",
        "from sklearn.preprocessing import StandardScaler\n",
        "from sklearn.linear_model import LinearRegression\n",
        "from sklearn.neighbors import KNeighborsRegressor\n",
        "from sklearn.ensemble import RandomForestRegressor\n",
        "from sklearn.model_selection import cross_val_score\n",
        "from sklearn.ensemble import GradientBoostingRegressor\n",
        "from sklearn.model_selection import RandomizedSearchCV\n"
      ],
      "execution_count": null,
      "outputs": []
    },
    {
      "cell_type": "code",
      "metadata": {
        "id": "0QnivrOGrNm0"
      },
      "source": [
        "import warnings\n",
        "warnings.filterwarnings(\"ignore\")\n",
        "\n",
        "url = \"https://archive.ics.uci.edu/ml/machine-learning-databases/00514/Bias_correction_ucl.csv\"\n",
        "s = requests.get(url).content\n",
        "df = pd.read_csv(io.StringIO(s.decode('utf-8')))\n"
      ],
      "execution_count": null,
      "outputs": []
    },
    {
      "cell_type": "markdown",
      "metadata": {
        "id": "dCK--tMdi5c3"
      },
      "source": [
        "# Preprocessamento"
      ]
    },
    {
      "cell_type": "code",
      "metadata": {
        "colab": {
          "base_uri": "https://localhost:8080/"
        },
        "id": "X4MM9pQ9t5P0",
        "outputId": "1fd989aa-4f14-48c7-e39b-79f7fa92c9c9"
      },
      "source": [
        "random.seed(42)\n",
        "\n",
        "pre_df = df.dropna()\n",
        "X = pre_df.drop(['Next_Tmin','Date','Next_Tmax'], axis=1)\n",
        "y = pre_df['Next_Tmax']\n",
        "\n",
        "scaler = StandardScaler()\n",
        "X = scaler.fit_transform(X)\n",
        "\n",
        "print('X:', X.shape)\n",
        "print('y:', y.shape)"
      ],
      "execution_count": null,
      "outputs": [
        {
          "output_type": "stream",
          "text": [
            "X: (7588, 22)\n",
            "y: (7588,)\n"
          ],
          "name": "stdout"
        }
      ]
    },
    {
      "cell_type": "markdown",
      "metadata": {
        "id": "jw8Gaf-_jvAf"
      },
      "source": [
        "# Funções"
      ]
    },
    {
      "cell_type": "code",
      "metadata": {
        "id": "L0DAbcxNjwIV"
      },
      "source": [
        "def random_search(estimator, param_distributions):\n",
        "  rscv = RandomizedSearchCV(estimator, param_distributions=param_distributions, scoring='neg_root_mean_squared_error', n_iter=10, n_jobs=-1)\n",
        "  r = rscv.fit(X,y)\n",
        "  return -r.best_score_, r.best_params_ \n",
        "\n",
        "def cross_validation(estimator):\n",
        "  r = cross_val_score(estimator, X, y, cv=5, scoring='neg_root_mean_squared_error')\n",
        "  return np.min(-r)\n",
        "\n",
        "def list_dict(d):\n",
        "    for x in d:\n",
        "        print (f'\\t{x}: {round(d[x],5)}')     \n",
        "\n",
        "def print_dict(d):\n",
        "    for x in d:\n",
        "        print (x)\n",
        "        for y in d[x]:\n",
        "            print ('\\t',y,':', round(d[x][y], 4))\n",
        "\n",
        "def model_test(estimator, params, name):\n",
        "  best_score, best_params = random_search(estimator, params)\n",
        "  default_score =  cross_validation(estimator)\n",
        "\n",
        "  results[name] = {}\n",
        "  results[name]['best_score'] = best_score\n",
        "  results[name]['default_score'] = default_score\n",
        "  return best_params\n",
        "\n",
        "def model_report(name, best_params):\n",
        "  print(name)\n",
        "  list_dict(best_params)\n",
        "  list_dict(results[name])\n",
        "\n",
        "results = {}"
      ],
      "execution_count": null,
      "outputs": []
    },
    {
      "cell_type": "markdown",
      "metadata": {
        "id": "4jPOWNY-i0Ei"
      },
      "source": [
        "# Modelo Linear"
      ]
    },
    {
      "cell_type": "code",
      "metadata": {
        "colab": {
          "base_uri": "https://localhost:8080/"
        },
        "id": "4jkpr73asUEk",
        "outputId": "a54468f9-d5f9-4e68-e6d3-8fbd5ded2af2"
      },
      "source": [
        "results['LR'] = {}\n",
        "validation = cross_val_score(LinearRegression(), X, y, scoring='neg_root_mean_squared_error')\n",
        "results['LR']['default_score'] = np.round(np.min(-validation),3) # melhor resultado\n",
        "results['LR']['best_score'] = results['LR']['default_score']\n",
        "\n",
        "print('Linear Regression:', results['LR']['default_score'])"
      ],
      "execution_count": null,
      "outputs": [
        {
          "output_type": "stream",
          "text": [
            "Linear Regression: 1.454\n"
          ],
          "name": "stdout"
        }
      ]
    },
    {
      "cell_type": "markdown",
      "metadata": {
        "id": "7XC5YWEul1ey"
      },
      "source": [
        "# L1"
      ]
    },
    {
      "cell_type": "code",
      "metadata": {
        "colab": {
          "base_uri": "https://localhost:8080/"
        },
        "id": "x1exLPh_kh3K",
        "outputId": "a7950ef0-b939-4184-9268-67a09d07f623"
      },
      "source": [
        "lasso_param = {\n",
        "    'alpha':loguniform(10e-3, 10e3)\n",
        "}\n",
        "\n",
        "best_params = model_test(Lasso(), lasso_param, 'L1')\n",
        "model_report('L1', best_params)"
      ],
      "execution_count": null,
      "outputs": [
        {
          "output_type": "stream",
          "text": [
            "L1\n",
            "\talpha: 0.02765\n",
            "\tbest_score: 1.56746\n",
            "\tdefault_score: 1.73604\n"
          ],
          "name": "stdout"
        }
      ]
    },
    {
      "cell_type": "markdown",
      "metadata": {
        "id": "rrlOYeWCqRpc"
      },
      "source": [
        "# L2"
      ]
    },
    {
      "cell_type": "code",
      "metadata": {
        "colab": {
          "base_uri": "https://localhost:8080/"
        },
        "id": "QwD76u5Mm3tV",
        "outputId": "c5bb655d-1666-443a-e578-1a3d93b9c28c"
      },
      "source": [
        "\n",
        "ridge_param = {\n",
        "    'alpha':loguniform(10e-3, 10e3)\n",
        "}\n",
        "\n",
        "best_params = model_test(Ridge(), ridge_param, 'L2')\n",
        "model_report('L2', best_params)"
      ],
      "execution_count": null,
      "outputs": [
        {
          "output_type": "stream",
          "text": [
            "L2\n",
            "\talpha: 301.93183\n",
            "\tbest_score: 1.57219\n",
            "\tdefault_score: 1.45418\n"
          ],
          "name": "stdout"
        }
      ]
    },
    {
      "cell_type": "markdown",
      "metadata": {
        "id": "BjfBC4qMq2vs"
      },
      "source": [
        "# SVM Linear"
      ]
    },
    {
      "cell_type": "code",
      "metadata": {
        "colab": {
          "base_uri": "https://localhost:8080/"
        },
        "id": "GmkGMqgWq4WN",
        "outputId": "883c216e-5967-4ed9-8a3d-c2d224bba2eb"
      },
      "source": [
        "svm_param = {\n",
        "    'epsilon':[0.1, 0.3],\n",
        "    'C': loguniform(2e-15,2e15)\n",
        "    }\n",
        "\n",
        "best_params = model_test(LinearSVR(), svm_param, 'SVM_Linear')\n",
        "model_report('SVM_Linear', best_params)"
      ],
      "execution_count": null,
      "outputs": [
        {
          "output_type": "stream",
          "text": [
            "SVM_Linear\n",
            "\tC: 989026.14153\n",
            "\tepsilon: 0.3\n",
            "\tbest_score: 1.9227\n",
            "\tdefault_score: 1.42582\n"
          ],
          "name": "stdout"
        }
      ]
    },
    {
      "cell_type": "markdown",
      "metadata": {
        "id": "BC-c-L3fRDe8"
      },
      "source": [
        "# SVM com kernel RBF"
      ]
    },
    {
      "cell_type": "code",
      "metadata": {
        "id": "IwpuY1epREB8"
      },
      "source": [
        "svm_param = {\n",
        "    'epsilon':[0.1, 0.3],\n",
        "    'C':loguniform(2e-15,2e15),\n",
        "    'gamma':loguniform(2e-9,2e3)\n",
        "    }\n",
        " \n",
        "best_params = model_test(SVR(), svm_param, 'SVM_RBF')\n",
        "model_report('SVM_RBF', best_params)"
      ],
      "execution_count": null,
      "outputs": []
    },
    {
      "cell_type": "markdown",
      "metadata": {
        "id": "h4QxfSyto3RJ"
      },
      "source": [
        "# KNN"
      ]
    },
    {
      "cell_type": "code",
      "metadata": {
        "id": "R5PefIDSlasX",
        "colab": {
          "base_uri": "https://localhost:8080/",
          "height": 0
        },
        "outputId": "5efb1ff5-e674-482a-d662-039347d4d85c"
      },
      "source": [
        "knn_params = {\n",
        "    'n_neighbors':np.random.randint(1, 1000, 10)\n",
        "    }\n",
        "\n",
        "best_params = model_test(KNeighborsRegressor(), knn_params, 'KNN')\n",
        "model_report('KNN', best_params)"
      ],
      "execution_count": 16,
      "outputs": [
        {
          "output_type": "stream",
          "text": [
            "KNN\n",
            "\tn_neighbors: 15\n",
            "\tbest_score: 1.84637\n",
            "\tdefault_score: 1.63376\n",
            "KNN\n",
            "\tn_neighbors: 26\n",
            "\tbest_score: 1.83765\n",
            "\tdefault_score: 1.63376\n"
          ],
          "name": "stdout"
        }
      ]
    },
    {
      "cell_type": "markdown",
      "metadata": {
        "id": "-VeB7ZvOU-vn"
      },
      "source": [
        "# MLP"
      ]
    },
    {
      "cell_type": "code",
      "metadata": {
        "id": "Cc_1umGGU99S",
        "colab": {
          "base_uri": "https://localhost:8080/",
          "height": 0
        },
        "outputId": "49e4b16c-d07c-4a73-f631-73f7c39eb80a"
      },
      "source": [
        "MLP_params = {\n",
        "    'hidden_layer_sizes':(5,8,11,14,17,20,23)\n",
        "    }\n",
        "\n",
        "best_params = model_test(MLPRegressor(), MLP_params, 'MLP')\n",
        "model_report('MLP', best_params)"
      ],
      "execution_count": 11,
      "outputs": [
        {
          "output_type": "stream",
          "text": [
            "MLP\n",
            "\thidden_layer_sizes: 23\n",
            "\tbest_score: 2.24748\n",
            "\tdefault_score: 1.86414\n"
          ],
          "name": "stdout"
        }
      ]
    },
    {
      "cell_type": "markdown",
      "metadata": {
        "id": "d7dzwkKPo4yj"
      },
      "source": [
        "# Decision Tree"
      ]
    },
    {
      "cell_type": "code",
      "metadata": {
        "id": "7OwMSAfjobfH",
        "colab": {
          "base_uri": "https://localhost:8080/",
          "height": 0
        },
        "outputId": "d77e1107-778d-47e7-b517-6fc4d6be7130"
      },
      "source": [
        "dtree_params = {\n",
        "    'ccp_alpha':[random.uniform(0.0, 0.4) for i in range(10)]\n",
        "    }\n",
        "\n",
        "best_params = model_test(DecisionTreeRegressor(), dtree_params, 'D-Tree')\n",
        "model_report('D-Tree', best_params)"
      ],
      "execution_count": 12,
      "outputs": [
        {
          "output_type": "stream",
          "text": [
            "D-Tree\n",
            "\tccp_alpha: 0.03478\n",
            "\tbest_score: 1.85151\n",
            "\tdefault_score: 2.1466\n"
          ],
          "name": "stdout"
        }
      ]
    },
    {
      "cell_type": "markdown",
      "metadata": {
        "id": "9pPASOGbqvmb"
      },
      "source": [
        "# Random Forest"
      ]
    },
    {
      "cell_type": "code",
      "metadata": {
        "id": "UOsUiH1Wqyc3",
        "colab": {
          "base_uri": "https://localhost:8080/",
          "height": 0
        },
        "outputId": "fe877998-3383-444a-f395-b564869bbaac"
      },
      "source": [
        "rf_params = {\n",
        "    'n_estimators':[10, 100, 1000],\n",
        "    'max_features':[5, 10, 22]\n",
        "    }\n",
        "\n",
        "best_params = model_test(RandomForestRegressor(), rf_params, 'RF')\n",
        "model_report('RF', best_params)"
      ],
      "execution_count": 13,
      "outputs": [
        {
          "output_type": "stream",
          "text": [
            "RF\n",
            "\tn_estimators: 100\n",
            "\tmax_features: 10\n",
            "\tbest_score: 1.62319\n",
            "\tdefault_score: 1.42919\n"
          ],
          "name": "stdout"
        }
      ]
    },
    {
      "cell_type": "markdown",
      "metadata": {
        "id": "9ebyzd0qr14V"
      },
      "source": [
        "# GBM"
      ]
    },
    {
      "cell_type": "code",
      "metadata": {
        "id": "EhkrQc-hr4bN",
        "colab": {
          "base_uri": "https://localhost:8080/",
          "height": 0
        },
        "outputId": "8284c91d-95ff-44ac-b941-36ea794b07c0"
      },
      "source": [
        "gbm_params = {\n",
        "    'n_estimators': np.random.randint(5, 100, 10),\n",
        "    'max_features':[random.uniform(0.01, 0.3) for i in range(10)],\n",
        "    'max_depth':[2, 3]\n",
        "    }\n",
        "\n",
        "best_params = model_test(GradientBoostingRegressor(), gbm_params, 'GBM')\n",
        "model_report('GBM', best_params)"
      ],
      "execution_count": 14,
      "outputs": [
        {
          "output_type": "stream",
          "text": [
            "GBM\n",
            "\tn_estimators: 87\n",
            "\tmax_features: 0.18089\n",
            "\tmax_depth: 3\n",
            "\tbest_score: 1.63073\n",
            "\tdefault_score: 1.43869\n"
          ],
          "name": "stdout"
        }
      ]
    },
    {
      "cell_type": "markdown",
      "metadata": {
        "id": "Ca2vFsX4w3kY"
      },
      "source": [
        "# Final Report"
      ]
    },
    {
      "cell_type": "code",
      "metadata": {
        "id": "Jo1XAy1zqHN6",
        "colab": {
          "base_uri": "https://localhost:8080/",
          "height": 343
        },
        "outputId": "781fb7e0-17ee-4813-fd4c-559c98c20bf8"
      },
      "source": [
        "pd.DataFrame.from_dict(results, orient='index')"
      ],
      "execution_count": 15,
      "outputs": [
        {
          "output_type": "execute_result",
          "data": {
            "text/html": [
              "<div>\n",
              "<style scoped>\n",
              "    .dataframe tbody tr th:only-of-type {\n",
              "        vertical-align: middle;\n",
              "    }\n",
              "\n",
              "    .dataframe tbody tr th {\n",
              "        vertical-align: top;\n",
              "    }\n",
              "\n",
              "    .dataframe thead th {\n",
              "        text-align: right;\n",
              "    }\n",
              "</style>\n",
              "<table border=\"1\" class=\"dataframe\">\n",
              "  <thead>\n",
              "    <tr style=\"text-align: right;\">\n",
              "      <th></th>\n",
              "      <th>default_score</th>\n",
              "      <th>best_score</th>\n",
              "    </tr>\n",
              "  </thead>\n",
              "  <tbody>\n",
              "    <tr>\n",
              "      <th>LR</th>\n",
              "      <td>1.454000</td>\n",
              "      <td>1.454000</td>\n",
              "    </tr>\n",
              "    <tr>\n",
              "      <th>L1</th>\n",
              "      <td>1.736037</td>\n",
              "      <td>1.567464</td>\n",
              "    </tr>\n",
              "    <tr>\n",
              "      <th>L2</th>\n",
              "      <td>1.454183</td>\n",
              "      <td>1.572187</td>\n",
              "    </tr>\n",
              "    <tr>\n",
              "      <th>SVM_Linear</th>\n",
              "      <td>1.425823</td>\n",
              "      <td>1.922697</td>\n",
              "    </tr>\n",
              "    <tr>\n",
              "      <th>SVM_RBF</th>\n",
              "      <td>1.502184</td>\n",
              "      <td>2.644222</td>\n",
              "    </tr>\n",
              "    <tr>\n",
              "      <th>KNN</th>\n",
              "      <td>1.633757</td>\n",
              "      <td>1.846374</td>\n",
              "    </tr>\n",
              "    <tr>\n",
              "      <th>MLP</th>\n",
              "      <td>1.864144</td>\n",
              "      <td>2.247483</td>\n",
              "    </tr>\n",
              "    <tr>\n",
              "      <th>D-Tree</th>\n",
              "      <td>2.146603</td>\n",
              "      <td>1.851509</td>\n",
              "    </tr>\n",
              "    <tr>\n",
              "      <th>RF</th>\n",
              "      <td>1.429190</td>\n",
              "      <td>1.623186</td>\n",
              "    </tr>\n",
              "    <tr>\n",
              "      <th>GBM</th>\n",
              "      <td>1.438692</td>\n",
              "      <td>1.630729</td>\n",
              "    </tr>\n",
              "  </tbody>\n",
              "</table>\n",
              "</div>"
            ],
            "text/plain": [
              "            default_score  best_score\n",
              "LR               1.454000    1.454000\n",
              "L1               1.736037    1.567464\n",
              "L2               1.454183    1.572187\n",
              "SVM_Linear       1.425823    1.922697\n",
              "SVM_RBF          1.502184    2.644222\n",
              "KNN              1.633757    1.846374\n",
              "MLP              1.864144    2.247483\n",
              "D-Tree           2.146603    1.851509\n",
              "RF               1.429190    1.623186\n",
              "GBM              1.438692    1.630729"
            ]
          },
          "metadata": {
            "tags": []
          },
          "execution_count": 15
        }
      ]
    }
  ]
}