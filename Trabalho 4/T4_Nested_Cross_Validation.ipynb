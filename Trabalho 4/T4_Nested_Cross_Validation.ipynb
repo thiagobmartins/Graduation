{
  "nbformat": 4,
  "nbformat_minor": 0,
  "metadata": {
    "colab": {
      "name": "T4 - Nested Cross Validation.ipynb",
      "provenance": []
    },
    "kernelspec": {
      "name": "python3",
      "display_name": "Python 3"
    },
    "language_info": {
      "name": "python"
    }
  },
  "cells": [
    {
      "cell_type": "markdown",
      "metadata": {
        "id": "1XJYhiDkG14U"
      },
      "source": [
        "# Summary\n",
        "Trabalho 4\n",
        "<br>Objetivos: aplicar os vários classificadores visto em aula. Busca de hiperparametros. Nested cross validation\n",
        "\n",
        "Membros do Grupo:\n",
        "*   Isaque Elcio de Souza — RA: 225310\n",
        "*   Matheus Vinicius Correa — RA: 225241\n",
        "*   Thiago Bruschi Martins — RA: 120212\n",
        "\n",
        "\n"
      ]
    },
    {
      "cell_type": "markdown",
      "metadata": {
        "id": "NE1NRB1kGy7i"
      },
      "source": [
        "# Preprocessing"
      ]
    },
    {
      "cell_type": "code",
      "metadata": {
        "id": "aIwlTvXRCM47",
        "colab": {
          "base_uri": "https://localhost:8080/"
        },
        "outputId": "c1e77828-44b4-4f67-d141-5813e48968b3"
      },
      "source": [
        "import io\n",
        "import requests\n",
        "import numpy as np\n",
        "import pandas as pd\n",
        "\n",
        "# Select categoricals columns of the input data\n",
        "dtypes = {}\n",
        "categoricals = ['V1', 'V4','V5','V6','V8','V9','V11','V12']\n",
        "for col in categoricals:\n",
        "  dtypes[col] = 'category'\n",
        "\n",
        "# Read data and convert the categorical columns\n",
        "url = \"https://www.ic.unicamp.br/~wainer/cursos/1s2021/432/dados4.csv\"\n",
        "s = requests.get(url).content\n",
        "df = pd.read_csv(io.StringIO(s.decode('utf-8')), dtype=dtypes)\n",
        "print(df[categoricals].describe())\n",
        "\n",
        "# Create dummy variables and detach the output from the input data \n",
        "dummy = pd.get_dummies(df, drop_first=True)\n",
        "X = dummy.drop(['V15'], axis=1)\n",
        "y = dummy['V15']"
      ],
      "execution_count": 1,
      "outputs": [
        {
          "output_type": "stream",
          "text": [
            "         V1   V4   V5   V6   V8   V9  V11  V12\n",
            "count   690  690  690  690  690  690  690  690\n",
            "unique    2    3   14    8    2    2    2    3\n",
            "top       1    2    c   bb    1    0    0    g\n",
            "freq    468  525  146  408  361  395  374  625\n"
          ],
          "name": "stdout"
        }
      ]
    },
    {
      "cell_type": "markdown",
      "metadata": {
        "id": "i-BHoIyY_m7J"
      },
      "source": [
        "# Functions"
      ]
    },
    {
      "cell_type": "code",
      "metadata": {
        "id": "75v9wW4LC8Qc"
      },
      "source": [
        "from sklearn.model_selection import cross_val_score\n",
        "from sklearn.model_selection import RandomizedSearchCV\n",
        "\n",
        "import warnings\n",
        "warnings.filterwarnings(\"ignore\")\n",
        "\n",
        "results = {}\n",
        "\n",
        "def round_dict(d, decimals):\n",
        "  print(d)\n",
        "  for keys, values in d.items():\n",
        "    if type(d[keys] == float):\n",
        "      d[keys] = round(values, decimals)\n",
        "  return d\n",
        "\n",
        "# Test 10 random parameters in the estimator (model)\n",
        "def random_search(estimator, param_distributions, X, y):\n",
        "  if(len(param_distributions) > 0):\n",
        "    rscv = RandomizedSearchCV(estimator(), param_distributions=param_distributions, scoring='roc_auc', n_iter=min(10,len(param_distributions)), cv=3, n_jobs=-1)\n",
        "    r = rscv.fit(X,y)   \n",
        "    #round_dict(r.best_params_, 7)\n",
        "    return r.best_score_,  r.best_params_ \n",
        "  else:\n",
        "    r = cross_val_score(estimator(), X, y, cv=3, scoring='roc_auc')\n",
        "    return np.mean(r), {}  \n",
        "\n",
        "# Test the estimator, save the best score and best params into results\n",
        "def model_test(estimator, params, X, y):\n",
        "  name = type(estimator()).__name__\n",
        "  if len(params) == 0:\n",
        "    name = name + '_default'\n",
        "  best_score, best_params = random_search(estimator, params, X, y)\n",
        "\n",
        "  if name not in results:\n",
        "    results[name] = {}\n",
        "    results[name]['ValidationScore'] = best_score\n",
        "    results[name]['BestParams'] = best_params\n",
        "  else:\n",
        "    if best_score > results[name]['ValidationScore']:\n",
        "      results[name]['ValidationScore'] = best_score\n",
        "      results[name]['BestParams'] = best_params\n",
        "\n",
        "  return name, best_params"
      ],
      "execution_count": 2,
      "outputs": []
    },
    {
      "cell_type": "markdown",
      "metadata": {
        "id": "C4HnB0k1_oU_"
      },
      "source": [
        "# Nested Cross Validation\n",
        "Search for hiperpams using nested cross validation"
      ]
    },
    {
      "cell_type": "code",
      "metadata": {
        "id": "4GrtsNNu_skd"
      },
      "source": [
        "import random\n",
        "from sklearn.svm import SVC\n",
        "from sklearn.svm import LinearSVC\n",
        "from scipy.stats import loguniform\n",
        "from sklearn.metrics import roc_auc_score\n",
        "from sklearn.naive_bayes import GaussianNB\n",
        "from sklearn.tree import DecisionTreeClassifier\n",
        "from sklearn.neural_network import MLPClassifier\n",
        "from sklearn.preprocessing import StandardScaler\n",
        "from sklearn.neighbors import KNeighborsClassifier\n",
        "from sklearn.linear_model import LogisticRegression\n",
        "from sklearn.ensemble import RandomForestClassifier\n",
        "from sklearn.model_selection import train_test_split\n",
        "from sklearn.ensemble import GradientBoostingClassifier\n",
        "from sklearn.discriminant_analysis import LinearDiscriminantAnalysis\n",
        "from sklearn.discriminant_analysis import QuadraticDiscriminantAnalysis\n",
        "\n",
        "results = {}\n",
        "OUTER_LOOP = 4\n",
        "\n",
        "for _ in range(OUTER_LOOP):  # Outter loop: split the data into train and test data\n",
        "  X_train, X_test, y_train, y_test = train_test_split(X, y, test_size=0.3, random_state=42)\n",
        "\n",
        "  scaler = StandardScaler()\n",
        "  X_train_scaled = scaler.fit_transform(X_train)\n",
        "\n",
        "  # Define the params of all classes\n",
        "  logistic_params = {'C': loguniform(10e-3, 10e3)} \n",
        "  linear_svm_param = {'C': loguniform(2e-15,2e15)}  \n",
        "  svm_param = {'C':loguniform(2e-15,2e15),'gamma':loguniform(2e-9,2e3)} \n",
        "  MLP_params = {'hidden_layer_sizes':(5,8,11,14,17,20) } \n",
        "  dtree_params = {'ccp_alpha':[random.uniform(0.0, 0.4) for i in range(10)]} \n",
        "  rf_params = {'n_estimators':[10, 100, 1000], 'max_features':[5, 10, 22] } \n",
        "  gbm_params = {\n",
        "    'n_estimators': np.random.randint(5, 100, 10),\n",
        "    'max_features':[random.uniform(0.01, 0.3) for i in range(10)],\n",
        "    'max_depth':[2, 3]\n",
        "    }\n",
        "\n",
        "  # Define the tuple as (model class, params)\n",
        "  models = [(LogisticRegression, {}), (LogisticRegression, logistic_params), \n",
        "            (LinearDiscriminantAnalysis, {}), (QuadraticDiscriminantAnalysis,{}),\n",
        "            (LinearSVC, linear_svm_param), (SVC, svm_param), (GaussianNB, {}), \n",
        "            (MLPClassifier, MLP_params), (DecisionTreeClassifier, dtree_params), \n",
        "            (RandomForestClassifier, rf_params), (GradientBoostingClassifier, gbm_params)]\n",
        "  \n",
        "  # InnerLoop: Train, validadte and test each model\n",
        "  for estimator, params in models:\n",
        "    name, best_params = model_test(estimator, params, X_train_scaled, y_train)\n",
        "    model = estimator(**best_params)\n",
        "    model.fit(X_train, y_train) # Train the best estimator with\n",
        "    score = roc_auc_score(y_test, model.predict(X_test))\n",
        "    \n",
        "    # Save the score as a sum\n",
        "    if 'TestScore' not in results[name]:\n",
        "      results[name]['TestScore'] = score\n",
        "    else:     \n",
        "        results[name]['TestScore'] += score\n",
        "\n",
        "# The final score is the avegare of the test scores\n",
        "for name in results:\n",
        "  results[name]['TestScore'] /= OUTER_LOOP"
      ],
      "execution_count": 3,
      "outputs": []
    },
    {
      "cell_type": "markdown",
      "metadata": {
        "id": "L3YZA0A1NK_G"
      },
      "source": [
        "# Final Report"
      ]
    },
    {
      "cell_type": "code",
      "metadata": {
        "colab": {
          "base_uri": "https://localhost:8080/",
          "height": 373
        },
        "id": "saF7kmmSNOED",
        "outputId": "cbe7f79e-8c5d-47e9-8d0b-ffcf53f50c7b"
      },
      "source": [
        "# Final report\n",
        "report = pd.DataFrame(results).transpose().sort_values(by='TestScore', ascending=False)\n",
        "report"
      ],
      "execution_count": 5,
      "outputs": [
        {
          "output_type": "execute_result",
          "data": {
            "text/html": [
              "<div>\n",
              "<style scoped>\n",
              "    .dataframe tbody tr th:only-of-type {\n",
              "        vertical-align: middle;\n",
              "    }\n",
              "\n",
              "    .dataframe tbody tr th {\n",
              "        vertical-align: top;\n",
              "    }\n",
              "\n",
              "    .dataframe thead th {\n",
              "        text-align: right;\n",
              "    }\n",
              "</style>\n",
              "<table border=\"1\" class=\"dataframe\">\n",
              "  <thead>\n",
              "    <tr style=\"text-align: right;\">\n",
              "      <th></th>\n",
              "      <th>ValidationScore</th>\n",
              "      <th>BestParams</th>\n",
              "      <th>TestScore</th>\n",
              "    </tr>\n",
              "  </thead>\n",
              "  <tbody>\n",
              "    <tr>\n",
              "      <th>LinearDiscriminantAnalysis_default</th>\n",
              "      <td>0.922696</td>\n",
              "      <td>{}</td>\n",
              "      <td>0.881834</td>\n",
              "    </tr>\n",
              "    <tr>\n",
              "      <th>LogisticRegression_default</th>\n",
              "      <td>0.915589</td>\n",
              "      <td>{}</td>\n",
              "      <td>0.868607</td>\n",
              "    </tr>\n",
              "    <tr>\n",
              "      <th>LogisticRegression</th>\n",
              "      <td>0.91926</td>\n",
              "      <td>{'C': 0.029404889683009933}</td>\n",
              "      <td>0.867284</td>\n",
              "    </tr>\n",
              "    <tr>\n",
              "      <th>DecisionTreeClassifier</th>\n",
              "      <td>0.861483</td>\n",
              "      <td>{'ccp_alpha': 0.22896682801621282}</td>\n",
              "      <td>0.861552</td>\n",
              "    </tr>\n",
              "    <tr>\n",
              "      <th>RandomForestClassifier</th>\n",
              "      <td>0.933157</td>\n",
              "      <td>{'n_estimators': 1000, 'max_features': 5}</td>\n",
              "      <td>0.854497</td>\n",
              "    </tr>\n",
              "    <tr>\n",
              "      <th>GradientBoostingClassifier</th>\n",
              "      <td>0.942377</td>\n",
              "      <td>{'n_estimators': 63, 'max_features': 0.1929853...</td>\n",
              "      <td>0.853505</td>\n",
              "    </tr>\n",
              "    <tr>\n",
              "      <th>GaussianNB_default</th>\n",
              "      <td>0.850923</td>\n",
              "      <td>{}</td>\n",
              "      <td>0.810406</td>\n",
              "    </tr>\n",
              "    <tr>\n",
              "      <th>QuadraticDiscriminantAnalysis_default</th>\n",
              "      <td>0.807591</td>\n",
              "      <td>{}</td>\n",
              "      <td>0.766755</td>\n",
              "    </tr>\n",
              "    <tr>\n",
              "      <th>MLPClassifier</th>\n",
              "      <td>0.897255</td>\n",
              "      <td>{'hidden_layer_sizes': 8}</td>\n",
              "      <td>0.743717</td>\n",
              "    </tr>\n",
              "    <tr>\n",
              "      <th>LinearSVC</th>\n",
              "      <td>0.911667</td>\n",
              "      <td>{'C': 3.667127741742828e-15}</td>\n",
              "      <td>0.668871</td>\n",
              "    </tr>\n",
              "    <tr>\n",
              "      <th>SVC</th>\n",
              "      <td>0.92618</td>\n",
              "      <td>{'C': 1905.0537108964, 'gamma': 1.083978854680...</td>\n",
              "      <td>0.569555</td>\n",
              "    </tr>\n",
              "  </tbody>\n",
              "</table>\n",
              "</div>"
            ],
            "text/plain": [
              "                                      ValidationScore  \\\n",
              "LinearDiscriminantAnalysis_default           0.922696   \n",
              "LogisticRegression_default                   0.915589   \n",
              "LogisticRegression                            0.91926   \n",
              "DecisionTreeClassifier                       0.861483   \n",
              "RandomForestClassifier                       0.933157   \n",
              "GradientBoostingClassifier                   0.942377   \n",
              "GaussianNB_default                           0.850923   \n",
              "QuadraticDiscriminantAnalysis_default        0.807591   \n",
              "MLPClassifier                                0.897255   \n",
              "LinearSVC                                    0.911667   \n",
              "SVC                                           0.92618   \n",
              "\n",
              "                                                                              BestParams  \\\n",
              "LinearDiscriminantAnalysis_default                                                    {}   \n",
              "LogisticRegression_default                                                            {}   \n",
              "LogisticRegression                                           {'C': 0.029404889683009933}   \n",
              "DecisionTreeClassifier                                {'ccp_alpha': 0.22896682801621282}   \n",
              "RandomForestClassifier                         {'n_estimators': 1000, 'max_features': 5}   \n",
              "GradientBoostingClassifier             {'n_estimators': 63, 'max_features': 0.1929853...   \n",
              "GaussianNB_default                                                                    {}   \n",
              "QuadraticDiscriminantAnalysis_default                                                 {}   \n",
              "MLPClassifier                                                  {'hidden_layer_sizes': 8}   \n",
              "LinearSVC                                                   {'C': 3.667127741742828e-15}   \n",
              "SVC                                    {'C': 1905.0537108964, 'gamma': 1.083978854680...   \n",
              "\n",
              "                                      TestScore  \n",
              "LinearDiscriminantAnalysis_default     0.881834  \n",
              "LogisticRegression_default             0.868607  \n",
              "LogisticRegression                     0.867284  \n",
              "DecisionTreeClassifier                 0.861552  \n",
              "RandomForestClassifier                 0.854497  \n",
              "GradientBoostingClassifier             0.853505  \n",
              "GaussianNB_default                     0.810406  \n",
              "QuadraticDiscriminantAnalysis_default  0.766755  \n",
              "MLPClassifier                          0.743717  \n",
              "LinearSVC                              0.668871  \n",
              "SVC                                    0.569555  "
            ]
          },
          "metadata": {
            "tags": []
          },
          "execution_count": 5
        }
      ]
    }
  ]
}